{
 "cells": [
  {
   "cell_type": "markdown",
   "id": "b3f1b408-9328-4774-bf0a-ec3b7537a45e",
   "metadata": {},
   "source": [
    "### Convolutional Neural Network"
   ]
  },
  {
   "cell_type": "markdown",
   "id": "84bf8c5b-975e-442f-be07-3f86ff6df197",
   "metadata": {},
   "source": [
    "#### explore data"
   ]
  },
  {
   "cell_type": "code",
   "execution_count": 1,
   "id": "e1d0768f-134f-4385-b69b-5721be6808d4",
   "metadata": {},
   "outputs": [
    {
     "data": {
      "image/png": "[encoded data removed]",
      "text/plain": [
       "<Figure size 1400x200 with 5 Axes>"
      ]
     },
     "metadata": {},
     "output_type": "display_data"
    }
   ],
   "source": [
    "import pandas as pd\n",
    "import numpy as np\n",
    "import matplotlib.pyplot as plt\n",
    "\n",
    "# \n",
    "X = pd.read_csv(\"./data/dataTrain.csv\", header=0, usecols=['electronegativity', 'd orbital of metal', 'group', 'radius/pm', 'first ionization energy'])\n",
    "y = pd.read_csv(\"./Data/dataTrain.csv\", header=0, usecols= ['2V-OER'])\n",
    "\n",
    "\n",
    "#print(X['electronegativity'])\n",
    "#print(y['2V-OER'])\n",
    "plt.figure(figsize=(14, 2))\n",
    "plt.subplot(1, 5, 1)\n",
    "plt.scatter(X['electronegativity'], y['2V-OER'])\n",
    "plt.xlabel('electronegativity')\n",
    "plt.ylabel('1V-ORR')\n",
    "\n",
    "plt.subplot(1, 5, 2)\n",
    "plt.scatter(X['d orbital of metal'], y['2V-OER'])\n",
    "plt.xlabel('d orbital of metal')\n",
    "\n",
    "plt.subplot(1, 5, 3)\n",
    "plt.scatter(X['group'], y['2V-OER'])\n",
    "plt.xlabel('group')\n",
    "\n",
    "plt.subplot(1, 5, 4)\n",
    "plt.scatter(X['radius/pm'], y['2V-OER'])\n",
    "plt.xlabel('radius/pm')\n",
    "\n",
    "plt.subplot(1, 5, 5)\n",
    "plt.scatter(X['first ionization energy'], y['2V-OER'])\n",
    "plt.xlabel('first ionization energy')\n",
    "\n",
    "plt.show()"
   ]
  },
  {
   "cell_type": "markdown",
   "id": "212288d9-8470-4dbc-9dab-a88d223a4e28",
   "metadata": {},
   "source": [
    "#### Prepare data for Pytorch"
   ]
  },
  {
   "cell_type": "code",
   "execution_count": 2,
   "id": "f4e34157-1d77-4e0d-a2f4-4705f2ecf02d",
   "metadata": {},
   "outputs": [],
   "source": [
    "import torch\n",
    "import torch.utils.data as td\n",
    "from sklearn.model_selection import train_test_split\n",
    "import pandas as pd\n",
    "\n",
    "def loaddata(pathway, Ylabel, i, j, k):\n",
    "    df = pd.read_csv(pathway)\n",
    "    Xfeatures = ['electronegativity', 'd orbital of metal', 'group', 'radius/pm', 'first ionization energy']\n",
    "    x = df[Xfeatures].values\n",
    "    y = df[Ylabel].values\n",
    "\n",
    "    label0, label1, label2 = x[i], x[j], x[k]\n",
    "    label0, label1, label2 = torch.Tensor(label0).float(), torch.Tensor(label1).float(), torch.Tensor(label2).float()\n",
    "    label0 = label0.reshape(1, 1, 5).float()\n",
    "    label1 = label1.reshape(1, 1, 5).float()\n",
    "    label2 = label2.reshape(1, 1, 5).float()\n",
    "    \n",
    "    \n",
    "    # split data\n",
    "    X_train, X_test, y_train, y_test = train_test_split(x, y, test_size=0.1, random_state=10)\n",
    "    \n",
    "    # create loader for the training data and labels\n",
    "    train_x = torch.Tensor(X_train).float()\n",
    "    train_x = train_x.reshape(12, 1, 5).float()\n",
    "    train_y = torch.Tensor(y_train).float()\n",
    "    train_data = td.TensorDataset(train_x, train_y)\n",
    "    train_loader = td.DataLoader(train_data, batch_size=1, shuffle=False, num_workers=1)\n",
    "\n",
    "    # create loader for the test data and labels\n",
    "    test_x = torch.Tensor(X_test).float()\n",
    "    test_x = test_x.reshape(2, 1, 5).float()\n",
    "    test_y = torch.Tensor(y_test).float()\n",
    "    test_data = td.TensorDataset(test_x, test_y)\n",
    "    test_loader = td.DataLoader(test_data, batch_size=1, shuffle=False, num_workers=1)\n",
    "\n",
    "    return train_loader, test_loader, label0, label1, label2\n",
    "\n",
    "pathway = \"./Data/dataTrain.csv\"\n",
    "Ylabel = \"2V-OER\"\n",
    "train_loader, test_loader, label0, label1, label2 = loaddata(pathway, Ylabel, 1, 2, 3)\n"
   ]
  },
  {
   "cell_type": "markdown",
   "id": "c684f11a-f6bc-410d-8852-ce6beb1cf5b0",
   "metadata": {},
   "source": [
    "#### Define the CNN"
   ]
  },
  {
   "cell_type": "code",
   "execution_count": 3,
   "id": "addc9c4c-6443-44fc-b65c-9064cdcf4dc5",
   "metadata": {},
   "outputs": [
    {
     "name": "stdout",
     "output_type": "stream",
     "text": [
      "CNNNet(\n",
      "  (conv0): Conv1d_same_padding(\n",
      "    (conv1d): Conv1d(4, 16, kernel_size=(1,), stride=(1,), bias=False)\n",
      "  )\n",
      "  (conv1): Conv1d_same_padding(\n",
      "    (conv1d): Conv1d(16, 16, kernel_size=(1,), stride=(1,), bias=False)\n",
      "  )\n",
      "  (conv2): Conv1d_same_padding(\n",
      "    (conv1d): Conv1d(16, 16, kernel_size=(1,), stride=(1,), bias=False)\n",
      "  )\n",
      "  (conv3): Conv1d_same_padding(\n",
      "    (conv1d): Conv1d(16, 16, kernel_size=(1,), stride=(1,), bias=False)\n",
      "  )\n",
      "  (conv4): Conv1d_same_padding(\n",
      "    (conv1d): Conv1d(16, 8, kernel_size=(1,), stride=(1,), bias=False)\n",
      "  )\n",
      "  (dense0): Linear(in_features=40, out_features=32, bias=False)\n",
      "  (dense1): Linear(in_features=32, out_features=16, bias=False)\n",
      "  (dense2): Linear(in_features=16, out_features=1, bias=False)\n",
      ")\n"
     ]
    }
   ],
   "source": [
    "import torch.nn as nn\n",
    "import torch.nn.functional as F\n",
    "\n",
    "class Conv1d_same_padding(nn.Module):\n",
    "    def __init__(self, inplanes, planes, kernel_size, strides=1, dilation=1):\n",
    "        super(Conv1d_same_padding, self).__init__()\n",
    "        self.kernel_size = kernel_size\n",
    "        self.strides = strides\n",
    "        self.dilation = dilation\n",
    "        self.conv1d = nn.Conv1d(inplanes, planes, kernel_size, strides, bias=False)\n",
    "        nn.init.xavier_uniform_(self.conv1d.weight)\n",
    "\n",
    "    def forward(self, x):\n",
    "        input_rows = x.size(2)\n",
    "        out_rows = (input_rows + self.strides -1) // self.strides\n",
    "        padding_rows = max(0, (out_rows - 1) * self.strides + (self.kernel_size - 1) * self.dilation + 1 - input_rows)\n",
    "        x = F.pad(x, pad=(0, padding_rows), mode=\"constant\")\n",
    "        x = self.conv1d(x)\n",
    "        return x\n",
    "\n",
    "class CNNNet(nn.Module):\n",
    "    def __init__(self):\n",
    "        super(CNNNet, self).__init__()\n",
    "\n",
    "        self.conv0 = Conv1d_same_padding(4, 16, 1)\n",
    "        self.conv1 = Conv1d_same_padding(16, 16, 1)\n",
    "        self.conv2 = Conv1d_same_padding(16, 16, 1)\n",
    "        self.conv3 = Conv1d_same_padding(16, 16, 1)\n",
    "        self.conv4 = Conv1d_same_padding(16, 8, 1)\n",
    "\n",
    "        self.dense0 = nn.Linear(40, 32, bias=False)\n",
    "        self.dense1 = nn.Linear(32, 16, bias=False)\n",
    "        self.dense2 = nn.Linear(16, 1, bias=False)\n",
    "\n",
    "        nn.init.xavier_uniform_(self.dense0.weight)\n",
    "        nn.init.xavier_uniform_(self.dense1.weight)\n",
    "        nn.init.xavier_uniform_(self.dense2.weight)\n",
    "\n",
    "    def forward(self, x):\n",
    "        x = F.relu(self.conv0(x))\n",
    "        x = F.relu(self.conv1(x))\n",
    "        x = F.relu(self.conv2(x))\n",
    "        x = F.relu(self.conv3(x))\n",
    "        x = F.relu(self.conv4(x))\n",
    "\n",
    "        x = torch.flatten(x)\n",
    "        \n",
    "        x = F.relu(self.dense0(x))\n",
    "        x = F.relu(self.dense1(x))\n",
    "        x = self.dense2(x)\n",
    "        return x\n",
    "\n",
    "model = CNNNet()\n",
    "print(model)"
   ]
  },
  {
   "cell_type": "markdown",
   "id": "19f4bd9b-8df3-4082-b7bf-3d4f94359ad9",
   "metadata": {},
   "source": [
    "#### Train the model"
   ]
  },
  {
   "cell_type": "code",
   "execution_count": 4,
   "id": "10bc012a-0381-42b2-ac28-55a05e554581",
   "metadata": {},
   "outputs": [],
   "source": [
    " \n",
    "def train(model, train_loader, optimizer, label0, label1, label2):\n",
    "    # set the model to train the model\n",
    "    model.train()\n",
    "    train_loss, train_error = 0, 0\n",
    "    \n",
    "    index = 0\n",
    "    for datax, target in train_loader:\n",
    "        \n",
    "        data = torch.cat([datax, label0, label1, label2], dim=1)\n",
    "        # feed forward\n",
    "        optimizer.zero_grad()\n",
    "        out = model(data)\n",
    "        loss = loss_criteria(out, target)\n",
    "        error = error_criteria(out, target)\n",
    "        #print(loss)\n",
    "\n",
    "        # backpropagate \n",
    "        loss.backward()\n",
    "        optimizer.step()\n",
    "\n",
    "        train_loss += loss.item()\n",
    "        train_error += error.item()\n",
    "        index += 1\n",
    "\n",
    "    avg_loss, avg_error = (train_loss / index), (train_error / index)\n",
    "    print(\"Training set: Average loss: {:.6f}, error: {:.6f}\".format(avg_loss, avg_error))\n",
    "    return avg_loss, avg_error\n",
    "    \n",
    "def test(model, test_loader, label0, label1, label2):\n",
    "    # set the model to evaluation mode\n",
    "    model.eval()\n",
    "    test_loss, test_error = 0, 0\n",
    "    \n",
    "    with torch.no_grad():\n",
    "        index = 0\n",
    "        for datax, target in test_loader:\n",
    "            \n",
    "            data = torch.cat([datax, label0, label1, label2], dim=1)\n",
    "            out = model(data)\n",
    "            \n",
    "            test_loss += loss_criteria(out, target).item()\n",
    "            test_error += error_criteria(out, target).item()           \n",
    "            index += 1\n",
    "\n",
    "        avg_loss, avg_error = (test_loss / index), (test_error / index)\n",
    "        print(\"Test set: Average loss: {:.6f}, error: {:.6f}\".format(avg_loss, avg_error))\n",
    "        return avg_loss, avg_error"
   ]
  },
  {
   "cell_type": "code",
   "execution_count": 5,
   "id": "b545bf02-465e-4187-b8a7-73f6f8a6ef83",
   "metadata": {},
   "outputs": [
    {
     "name": "stdout",
     "output_type": "stream",
     "text": [
      "Epoch: 1\n",
      "Training set: Average loss: 1.821000, error: 1.038601\n",
      "Test set: Average loss: 3.196855, error: 1.006033\n",
      "Epoch: 2\n",
      "Training set: Average loss: 1.685893, error: 0.977941\n",
      "Test set: Average loss: 3.048121, error: 0.982948\n",
      "Epoch: 3\n",
      "Training set: Average loss: 1.557335, error: 0.901323\n",
      "Test set: Average loss: 2.760793, error: 0.936192\n",
      "Epoch: 4\n",
      "Training set: Average loss: 1.302941, error: 0.724554\n",
      "Test set: Average loss: 2.119469, error: 0.820192\n",
      "Epoch: 5\n",
      "Training set: Average loss: 0.836850, error: 0.747252\n",
      "Test set: Average loss: 0.996949, error: 0.561694\n",
      "Epoch: 6\n",
      "Training set: Average loss: 0.412075, error: 0.755344\n",
      "Test set: Average loss: 0.186232, error: 0.237510\n",
      "Epoch: 7\n",
      "Training set: Average loss: 0.278010, error: 0.754180\n",
      "Test set: Average loss: 0.164321, error: 0.215887\n",
      "Epoch: 8\n",
      "Training set: Average loss: 0.215770, error: 0.621264\n",
      "Test set: Average loss: 0.191769, error: 0.228364\n",
      "Epoch: 9\n",
      "Training set: Average loss: 0.203186, error: 0.597542\n",
      "Test set: Average loss: 0.125806, error: 0.170727\n",
      "Epoch: 10\n",
      "Training set: Average loss: 0.177200, error: 0.581445\n",
      "Test set: Average loss: 0.081427, error: 0.118678\n",
      "Epoch: 11\n",
      "Training set: Average loss: 0.158344, error: 0.555691\n",
      "Test set: Average loss: 0.066324, error: 0.094619\n",
      "Epoch: 12\n",
      "Training set: Average loss: 0.148090, error: 0.535390\n",
      "Test set: Average loss: 0.057663, error: 0.094394\n",
      "Epoch: 13\n",
      "Training set: Average loss: 0.137772, error: 0.514301\n",
      "Test set: Average loss: 0.051286, error: 0.093335\n",
      "Epoch: 14\n",
      "Training set: Average loss: 0.128368, error: 0.493905\n",
      "Test set: Average loss: 0.045000, error: 0.090640\n",
      "Epoch: 15\n",
      "Training set: Average loss: 0.121420, error: 0.479436\n",
      "Test set: Average loss: 0.038821, error: 0.086988\n",
      "Epoch: 16\n",
      "Training set: Average loss: 0.113924, error: 0.465163\n",
      "Test set: Average loss: 0.033602, error: 0.082003\n",
      "Epoch: 17\n",
      "Training set: Average loss: 0.107080, error: 0.449022\n",
      "Test set: Average loss: 0.030240, error: 0.075814\n",
      "Epoch: 18\n",
      "Training set: Average loss: 0.102606, error: 0.442020\n",
      "Test set: Average loss: 0.027152, error: 0.069318\n",
      "Epoch: 19\n",
      "Training set: Average loss: 0.096460, error: 0.431502\n",
      "Test set: Average loss: 0.026190, error: 0.062987\n",
      "Epoch: 20\n",
      "Training set: Average loss: 0.091029, error: 0.418933\n",
      "Test set: Average loss: 0.023007, error: 0.057637\n",
      "Epoch: 21\n",
      "Training set: Average loss: 0.085710, error: 0.408872\n",
      "Test set: Average loss: 0.022812, error: 0.059711\n",
      "Epoch: 22\n",
      "Training set: Average loss: 0.078327, error: 0.392192\n",
      "Test set: Average loss: 0.022715, error: 0.065282\n",
      "Epoch: 23\n",
      "Training set: Average loss: 0.071764, error: 0.376637\n",
      "Test set: Average loss: 0.020430, error: 0.064426\n",
      "Epoch: 24\n",
      "Training set: Average loss: 0.063601, error: 0.354218\n",
      "Test set: Average loss: 0.020417, error: 0.067724\n",
      "Epoch: 25\n",
      "Training set: Average loss: 0.057534, error: 0.338983\n",
      "Test set: Average loss: 0.020570, error: 0.070520\n",
      "Epoch: 26\n",
      "Training set: Average loss: 0.052839, error: 0.322212\n",
      "Test set: Average loss: 0.018057, error: 0.066301\n",
      "Epoch: 27\n",
      "Training set: Average loss: 0.048057, error: 0.304000\n",
      "Test set: Average loss: 0.014608, error: 0.059049\n",
      "Epoch: 28\n",
      "Training set: Average loss: 0.041578, error: 0.282590\n",
      "Test set: Average loss: 0.016050, error: 0.064654\n",
      "Epoch: 29\n",
      "Training set: Average loss: 0.037465, error: 0.264207\n",
      "Test set: Average loss: 0.015119, error: 0.063460\n",
      "Epoch: 30\n",
      "Training set: Average loss: 0.032785, error: 0.245846\n",
      "Test set: Average loss: 0.013290, error: 0.059717\n"
     ]
    }
   ],
   "source": [
    "import torch.nn as nn\n",
    "\n",
    "#specify the loss criteria\n",
    "class MyError(torch.nn.Module): \n",
    "    def __init__(self):\n",
    "        super(MyError, self).__init__() \n",
    "        \n",
    "    def forward(self, pred, real): \n",
    "        return torch.mean(torch.abs(torch.sub(pred, real) / real)) \n",
    "\n",
    "error_criteria = MyError()\n",
    "loss_criteria = nn.MSELoss()\n",
    "\n",
    "pathway = \"./Data/dataTrain.csv\"\n",
    "Ylabel = \"2V-OER\"\n",
    "\n",
    "# model and datafile\n",
    "train_loader, test_loader, label0, label1, label2 = loaddata(pathway, Ylabel, 3, 11, 13)\n",
    "model = CNNNet()\n",
    "\n",
    "# use an \"Adam\" optimizer to adjust weights\n",
    "learning_rate = 0.001\n",
    "optimizer = torch.optim.Adam(model.parameters(), lr= learning_rate)\n",
    "optimizer.zero_grad()\n",
    "\n",
    "# track metrics\n",
    "epoch_nums = []\n",
    "training_loss, training_error = [], []\n",
    "testing_loss, testing_error = [], []\n",
    "\n",
    "epochs = 30\n",
    "for epoch in range(1, epochs+1):\n",
    "    print(\"Epoch: {}\".format(epoch))\n",
    "    \n",
    "    train_loss, train_error = train(model, train_loader, optimizer, label0, label1, label2)\n",
    "    test_loss, test_error = test(model, test_loader, label0, label1, label2)\n",
    "\n",
    "    epoch_nums.append(epoch)\n",
    "    training_loss.append(train_loss)\n",
    "    training_error.append(train_error)\n",
    "    \n",
    "    testing_loss.append(test_loss)\n",
    "    testing_error.append(test_error)\n",
    "\n"
   ]
  },
  {
   "cell_type": "code",
   "execution_count": 6,
   "id": "6648386c-1e4a-450f-bfc5-44442cea650c",
   "metadata": {},
   "outputs": [
    {
     "data": {
      "image/png": "[encoded data removed]",
      "text/plain": [
       "<Figure size 640x480 with 1 Axes>"
      ]
     },
     "metadata": {},
     "output_type": "display_data"
    }
   ],
   "source": [
    "import matplotlib.pyplot as plt\n",
    "\n",
    "plt.plot(epoch_nums, training_loss)\n",
    "plt.plot(epoch_nums, testing_loss)\n",
    "plt.xlabel('epoch')\n",
    "plt.ylabel('loss')\n",
    "plt.legend(['Training', 'test'], loc='upper right')\n",
    "plt.show()"
   ]
  },
  {
   "cell_type": "markdown",
   "id": "51e5f18f-3fcb-456b-a31a-e103bc13f1c2",
   "metadata": {},
   "source": [
    "#### save the trained model"
   ]
  },
  {
   "cell_type": "code",
   "execution_count": 7,
   "id": "770ddd83-f091-4e8e-af70-f5d485eff806",
   "metadata": {},
   "outputs": [
    {
     "name": "stdout",
     "output_type": "stream",
     "text": [
      "model is saved\n"
     ]
    }
   ],
   "source": [
    "model_file = \"./Models/pred_2VOER.pt\"\n",
    "torch.save(model.state_dict(), model_file)\n",
    "del model\n",
    "print(\"model is saved\")"
   ]
  },
  {
   "cell_type": "markdown",
   "id": "2d8a3a1e-f3a0-42af-b266-d331afef5994",
   "metadata": {},
   "source": [
    "#### Use the saved model"
   ]
  },
  {
   "cell_type": "markdown",
   "id": "5feda7bf-79d9-4035-ae3e-f962808078c9",
   "metadata": {},
   "source": [
    "##### Load data for prediction"
   ]
  },
  {
   "cell_type": "code",
   "execution_count": 8,
   "id": "24883cdf-8669-4789-8c1b-6daa8ede5d3e",
   "metadata": {},
   "outputs": [
    {
     "name": "stdout",
     "output_type": "stream",
     "text": [
      "torch.Size([15, 5])\n",
      "torch.Size([5])\n",
      "tensor([-1.7959, -1.6652, -1.6366,  1.1285, -1.0234])\n",
      "torch.Size([1, 1, 5])\n",
      "tensor([[[-1.7959, -1.6652, -1.6366,  1.1285, -1.0234]]])\n"
     ]
    }
   ],
   "source": [
    "import torch\n",
    "import torch.utils.data as td\n",
    "from sklearn.model_selection import train_test_split\n",
    "import pandas as pd\n",
    "\n",
    "def loaddata(pathway1, pathway2, i, j, k):\n",
    "    df1 = pd.read_csv(pathway1)\n",
    "    df2 = pd.read_csv(pathway2)\n",
    "    Xfeatures = ['electronegativity', 'd orbital of metal', 'group', 'radius/pm', 'first ionization energy']\n",
    "    x = df1[Xfeatures].values\n",
    "\n",
    "    label0, label1, label2 = x[i], x[j], x[k]\n",
    "    label0, label1, label2 = torch.Tensor(label0).float(), torch.Tensor(label1).float(), torch.Tensor(label2).float()\n",
    "    label0 = label0.reshape(1, 1, 5).float()\n",
    "    label1 = label1.reshape(1, 1, 5).float()\n",
    "    label2 = label2.reshape(1, 1, 5).float()\n",
    "    \n",
    "    predict_x = df2[Xfeatures].values\n",
    "    predict_x = torch.Tensor(predict_x).float()\n",
    "    #predict_x = predict_x.reshape(15, 1, 5).float()\n",
    "\n",
    "    return predict_x, label0, label1, label2\n",
    "\n",
    "pathway1 = \"./Data/dataTrain.csv\"\n",
    "pathway2 = \"./Data/dataTest.csv\"\n",
    "predict_x, label0, label1, label2 = loaddata(pathway1, pathway2, 3, 11, 13)\n",
    "print(predict_x.shape)\n",
    "for data in predict_x:\n",
    "    pass\n",
    "print(data.shape)\n",
    "print(data)\n",
    "\n",
    "for data in predict_x:\n",
    "    data = data.reshape(1, 1, 5).float()\n",
    "    pass\n",
    "print(data.shape)\n",
    "print(data)\n"
   ]
  },
  {
   "cell_type": "markdown",
   "id": "50a54ab8-1393-475d-b946-9c0db839cd24",
   "metadata": {},
   "source": [
    "##### predict"
   ]
  },
  {
   "cell_type": "code",
   "execution_count": 9,
   "id": "4452dd28-366b-411f-bead-c27433d652ed",
   "metadata": {},
   "outputs": [],
   "source": [
    "def predict(model, predict_data, label0, label1, label2):\n",
    "    # set the model to evaluation mode\n",
    "    model.eval()\n",
    "    predicts = []\n",
    "    \n",
    "    with torch.no_grad():  \n",
    "        for datax in predict_data:\n",
    "            datax = datax.reshape(1, 1, 5).float()\n",
    "            data = torch.cat([datax, label0, label1, label2], dim=1)\n",
    "            out = model(data)\n",
    "            predicts.append(out.item())\n",
    "        return predicts\n",
    "\n",
    "# load data\n",
    "pathway1 = \"./Data/dataTrain.csv\"\n",
    "pathway2 = \"./Data/dataTest.csv\"\n",
    "predictx, label0, label1, label2 = loaddata(pathway1, pathway2, 3, 11, 13)\n",
    "\n",
    "# load model\n",
    "model = CNNNet() \n",
    "model.load_state_dict(torch.load(\"./Models/pred_2VOER.pt\"))\n",
    "\n",
    "predicts = predict(model, predictx, label0, label1, label2)\n",
    "#print(predicts)"
   ]
  },
  {
   "cell_type": "markdown",
   "id": "6e22da72-ef62-4e94-8fa8-81f95c7874f4",
   "metadata": {},
   "source": [
    "#### save the results"
   ]
  },
  {
   "cell_type": "code",
   "execution_count": 10,
   "id": "82bd2c33-8e58-4022-b293-b397c2c2de04",
   "metadata": {},
   "outputs": [],
   "source": [
    "import numpy as np\n",
    "\n",
    "np.savetxt(\"./Results/pred_2VOER.dat\", np.array(predicts))"
   ]
  },
  {
   "cell_type": "code",
   "execution_count": null,
   "id": "aae869a6-355c-43d5-b040-f53a3bc10a00",
   "metadata": {},
   "outputs": [],
   "source": []
  }
 ],
 "metadata": {
  "kernelspec": {
   "display_name": "Python 3 (ipykernel)",
   "language": "python",
   "name": "python3"
  },
  "language_info": {
   "codemirror_mode": {
    "name": "ipython",
    "version": 3
   },
   "file_extension": ".py",
   "mimetype": "text/x-python",
   "name": "python",
   "nbconvert_exporter": "python",
   "pygments_lexer": "ipython3",
   "version": "3.12.5"
  }
 },
 "nbformat": 4,
 "nbformat_minor": 5
}
